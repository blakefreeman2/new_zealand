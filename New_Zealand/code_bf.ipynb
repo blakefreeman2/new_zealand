{
 "cells": [
  {
   "cell_type": "code",
   "execution_count": null,
   "metadata": {},
   "outputs": [],
   "source": [
    "#New Zealand"
   ]
  },
  {
   "cell_type": "code",
   "execution_count": 20,
   "metadata": {},
   "outputs": [
    {
     "name": "stdout",
     "output_type": "stream",
     "text": [
      "Collecting pprint\n",
      "  Downloading https://files.pythonhosted.org/packages/99/12/b6383259ef85c2b942ab9135f322c0dce83fdca8600d87122d2b0181451f/pprint-0.1.tar.gz\n",
      "Building wheels for collected packages: pprint\n",
      "  Building wheel for pprint (setup.py): started\n",
      "  Building wheel for pprint (setup.py): finished with status 'done'\n",
      "  Stored in directory: C:\\Users\\blake\\AppData\\Local\\pip\\Cache\\wheels\\42\\d4\\c6\\16a6495aecc1bda5d5857bd036efd50617789ba9bea4a05124\n",
      "Successfully built pprint\n",
      "Installing collected packages: pprint\n",
      "Successfully installed pprint-0.1\n"
     ]
    }
   ],
   "source": [
    "!pip install pprint\n"
   ]
  },
  {
   "cell_type": "code",
   "execution_count": 27,
   "metadata": {},
   "outputs": [],
   "source": [
    "# Dependencies\n",
    "import csv\n",
    "import matplotlib.pyplot as plt\n",
    "import requests\n",
    "import json\n",
    "import pandas as pd\n",
    "import numpy as np\n",
    "import requests\n",
    "import yelp\n",
    "from pprint import pprint\n",
    "yelp_api = 'pLRpP-Ctn9CF-9Pv4eXgyulGS3tefho9eJuj7gT3enKJbN8KwbNSwpSRdnnVs0o9j_zvivaDb-G3xXNQs8qHGhicjE0ilkIp2WilAcaQVYlkr661CdspJDKHYs4nXXYx'\n"
   ]
  },
  {
   "cell_type": "code",
   "execution_count": 28,
   "metadata": {},
   "outputs": [],
   "source": [
    "API_HOST = 'https://api.yelp.com'\n",
    "BUSINESS_PATH = '/v3/businesses/'"
   ]
  },
  {
   "cell_type": "code",
   "execution_count": 29,
   "metadata": {},
   "outputs": [],
   "source": [
    "def get_location(business_id):\n",
    "    business_path = BUSINESS_PATH + business_id\n",
    "    url = API_HOST + business_path + '/reviews'\n",
    "    headers = {'Authorization': f\"Bearer {yelp_api}\"}\n",
    "\n",
    "    response = requests.get(url, headers=headers)\n",
    "\n",
    "    return response.json()"
   ]
  },
  {
   "cell_type": "code",
   "execution_count": 31,
   "metadata": {},
   "outputs": [
    {
     "name": "stdout",
     "output_type": "stream",
     "text": [
      "{'possible_languages': ['fr', 'en', 'de', 'it', 'ja', 'es'],\n",
      " 'reviews': [{'id': '0Duz8rH6PGKVEBw7CaSL3A',\n",
      "              'rating': 5,\n",
      "              'text': 'Really incredible burrito.\\n'\n",
      "                      '\\n'\n",
      "                      'I ordered the carnitas burrito. This comes pack with '\n",
      "                      'pork and pico. \\n'\n",
      "                      '\\n'\n",
      "                      'The tortilla was super soft and chewy and fresh. \\n'\n",
      "                      '\\n'\n",
      "                      'The...',\n",
      "              'time_created': '2019-06-18 09:27:54',\n",
      "              'url': 'https://www.yelp.com/biz/la-taqueria-san-francisco-2?adjust_creative=BuSFITEhz84GPgGmaOSC1g&hrid=0Duz8rH6PGKVEBw7CaSL3A&utm_campaign=yelp_api_v3&utm_medium=api_v3_business_reviews&utm_source=BuSFITEhz84GPgGmaOSC1g',\n",
      "              'user': {'id': 'EOajY1L3ole3gLTCZ2xw1g',\n",
      "                       'image_url': 'https://s3-media2.fl.yelpcdn.com/photo/S2HtnnOsP7cgaJ9WvH68vw/o.jpg',\n",
      "                       'name': 'Jack M.',\n",
      "                       'profile_url': 'https://www.yelp.com/user_details?userid=EOajY1L3ole3gLTCZ2xw1g'}},\n",
      "             {'id': 'l4YSbu17DnjJJk_aI5LPhg',\n",
      "              'rating': 1,\n",
      "              'text': 'Overrated and below average food.\\n'\n",
      "                      '\\n'\n",
      "                      'Not worth the wait and hype. The service is horrible.\\n'\n",
      "                      '\\n'\n",
      "                      '\\n'\n",
      "                      'There are a dozen places who make better burritos than '\n",
      "                      'this one ....',\n",
      "              'time_created': '2019-07-06 20:55:10',\n",
      "              'url': 'https://www.yelp.com/biz/la-taqueria-san-francisco-2?adjust_creative=BuSFITEhz84GPgGmaOSC1g&hrid=l4YSbu17DnjJJk_aI5LPhg&utm_campaign=yelp_api_v3&utm_medium=api_v3_business_reviews&utm_source=BuSFITEhz84GPgGmaOSC1g',\n",
      "              'user': {'id': 'VArd2YL2Lh0W9QT_nEWTXw',\n",
      "                       'image_url': 'https://s3-media3.fl.yelpcdn.com/photo/lzqj1eGtyh6d83zBdzyk2w/o.jpg',\n",
      "                       'name': 'Abhinav G.',\n",
      "                       'profile_url': 'https://www.yelp.com/user_details?userid=VArd2YL2Lh0W9QT_nEWTXw'}},\n",
      "             {'id': '3J5UHNYVtO-x0KQg-l-qzQ',\n",
      "              'rating': 3,\n",
      "              'text': 'Solid, but not much to rave about.\\n'\n",
      "                      '\\n'\n",
      "                      'To start, I ordered a half carne asada and half lengua '\n",
      "                      'burrito, dorado style. I added sour cream, cheese, '\n",
      "                      'and...',\n",
      "              'time_created': '2019-06-28 12:00:56',\n",
      "              'url': 'https://www.yelp.com/biz/la-taqueria-san-francisco-2?adjust_creative=BuSFITEhz84GPgGmaOSC1g&hrid=3J5UHNYVtO-x0KQg-l-qzQ&utm_campaign=yelp_api_v3&utm_medium=api_v3_business_reviews&utm_source=BuSFITEhz84GPgGmaOSC1g',\n",
      "              'user': {'id': 'o88sLvU5mCWnI_FfNqawCA',\n",
      "                       'image_url': 'https://s3-media4.fl.yelpcdn.com/photo/vccTXRBgcgvMAE03c0w77g/o.jpg',\n",
      "                       'name': 'Vivian T.',\n",
      "                       'profile_url': 'https://www.yelp.com/user_details?userid=o88sLvU5mCWnI_FfNqawCA'}}],\n",
      " 'total': 3871}\n"
     ]
    }
   ],
   "source": [
    "results = get_location('la-taqueria-san-francisco-2')\n",
    "pprint(results)"
   ]
  },
  {
   "cell_type": "code",
   "execution_count": null,
   "metadata": {},
   "outputs": [],
   "source": []
  }
 ],
 "metadata": {
  "kernelspec": {
   "display_name": "Python 3",
   "language": "python",
   "name": "python3"
  },
  "language_info": {
   "codemirror_mode": {
    "name": "ipython",
    "version": 3
   },
   "file_extension": ".py",
   "mimetype": "text/x-python",
   "name": "python",
   "nbconvert_exporter": "python",
   "pygments_lexer": "ipython3",
   "version": "3.7.3"
  }
 },
 "nbformat": 4,
 "nbformat_minor": 2
}
