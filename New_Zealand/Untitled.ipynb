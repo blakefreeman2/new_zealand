{
 "cells": [
  {
   "cell_type": "code",
   "execution_count": 4,
   "metadata": {},
   "outputs": [],
   "source": [
    "import requests\n",
    "\n",
    "API_KEY =  \"pLRpP-Ctn9CF-9Pv4eXgyulGS3tefho9eJuj7gT3enKJbN8KwbNSwpSRdnnVs0o9j_zvivaDb-G3xXNQs8qHGhicjE0ilkIp2WilAcaQVYlkr661CdspJDKHYs4nXXYx\" #  Replace this with your real API key\n",
    "\n",
    "API_HOST = 'https://api.yelp.com'\n",
    "BUSINESS_PATH = '/v3/businesses/'"
   ]
  },
  {
   "cell_type": "code",
   "execution_count": 5,
   "metadata": {},
   "outputs": [],
   "source": [
    "def get_business(business_id):\n",
    "    business_path = BUSINESS_PATH + business_id\n",
    "    url = API_HOST + business_path + '/reviews'\n",
    "    headers = {'Authorization': f\"Bearer {API_KEY}\"}\n",
    "\n",
    "    response = requests.get(url, headers=headers)\n",
    "\n",
    "    return response.json()"
   ]
  },
  {
   "cell_type": "code",
   "execution_count": 6,
   "metadata": {},
   "outputs": [
    {
     "name": "stdout",
     "output_type": "stream",
     "text": [
      "{'reviews': [{'id': '0Duz8rH6PGKVEBw7CaSL3A', 'url': 'https://www.yelp.com/biz/la-taqueria-san-francisco-2?adjust_creative=BuSFITEhz84GPgGmaOSC1g&hrid=0Duz8rH6PGKVEBw7CaSL3A&utm_campaign=yelp_api_v3&utm_medium=api_v3_business_reviews&utm_source=BuSFITEhz84GPgGmaOSC1g', 'text': 'Really incredible burrito.\\n\\nI ordered the carnitas burrito. This comes pack with pork and pico. \\n\\nThe tortilla was super soft and chewy and fresh. \\n\\nThe...', 'rating': 5, 'time_created': '2019-06-18 09:27:54', 'user': {'id': 'EOajY1L3ole3gLTCZ2xw1g', 'profile_url': 'https://www.yelp.com/user_details?userid=EOajY1L3ole3gLTCZ2xw1g', 'image_url': 'https://s3-media2.fl.yelpcdn.com/photo/S2HtnnOsP7cgaJ9WvH68vw/o.jpg', 'name': 'Jack M.'}}, {'id': 'l4YSbu17DnjJJk_aI5LPhg', 'url': 'https://www.yelp.com/biz/la-taqueria-san-francisco-2?adjust_creative=BuSFITEhz84GPgGmaOSC1g&hrid=l4YSbu17DnjJJk_aI5LPhg&utm_campaign=yelp_api_v3&utm_medium=api_v3_business_reviews&utm_source=BuSFITEhz84GPgGmaOSC1g', 'text': 'Overrated and below average food.\\n\\nNot worth the wait and hype. The service is horrible.\\n\\n\\nThere are a dozen places who make better burritos than this one ....', 'rating': 1, 'time_created': '2019-07-06 20:55:10', 'user': {'id': 'VArd2YL2Lh0W9QT_nEWTXw', 'profile_url': 'https://www.yelp.com/user_details?userid=VArd2YL2Lh0W9QT_nEWTXw', 'image_url': 'https://s3-media3.fl.yelpcdn.com/photo/lzqj1eGtyh6d83zBdzyk2w/o.jpg', 'name': 'Abhinav G.'}}, {'id': '3J5UHNYVtO-x0KQg-l-qzQ', 'url': 'https://www.yelp.com/biz/la-taqueria-san-francisco-2?adjust_creative=BuSFITEhz84GPgGmaOSC1g&hrid=3J5UHNYVtO-x0KQg-l-qzQ&utm_campaign=yelp_api_v3&utm_medium=api_v3_business_reviews&utm_source=BuSFITEhz84GPgGmaOSC1g', 'text': 'Solid, but not much to rave about.\\n\\nTo start, I ordered a half carne asada and half lengua burrito, dorado style. I added sour cream, cheese, and...', 'rating': 3, 'time_created': '2019-06-28 12:00:56', 'user': {'id': 'o88sLvU5mCWnI_FfNqawCA', 'profile_url': 'https://www.yelp.com/user_details?userid=o88sLvU5mCWnI_FfNqawCA', 'image_url': 'https://s3-media4.fl.yelpcdn.com/photo/vccTXRBgcgvMAE03c0w77g/o.jpg', 'name': 'Vivian T.'}}], 'total': 3871, 'possible_languages': ['fr', 'en', 'de', 'it', 'ja', 'es']}\n"
     ]
    }
   ],
   "source": [
    "results = get_business('la-taqueria-san-francisco-2')\n",
    "print(results)"
   ]
  },
  {
   "cell_type": "code",
   "execution_count": 11,
   "metadata": {},
   "outputs": [
    {
     "data": {
      "text/plain": [
       "5"
      ]
     },
     "execution_count": 11,
     "metadata": {},
     "output_type": "execute_result"
    }
   ],
   "source": [
    "results[\"reviews\"][0]['rating']"
   ]
  },
  {
   "cell_type": "code",
   "execution_count": 12,
   "metadata": {},
   "outputs": [
    {
     "name": "stdout",
     "output_type": "stream",
     "text": [
      "5\n",
      "1\n",
      "3\n"
     ]
    },
    {
     "data": {
      "text/plain": [
       "[None, None, None]"
      ]
     },
     "execution_count": 12,
     "metadata": {},
     "output_type": "execute_result"
    }
   ],
   "source": [
    "[print(results[\"reviews\"][i]['rating']) for i in range(len(results[\"reviews\"]))]"
   ]
  },
  {
   "cell_type": "code",
   "execution_count": 13,
   "metadata": {},
   "outputs": [
    {
     "data": {
      "text/plain": [
       "[{'id': '0Duz8rH6PGKVEBw7CaSL3A',\n",
       "  'url': 'https://www.yelp.com/biz/la-taqueria-san-francisco-2?adjust_creative=BuSFITEhz84GPgGmaOSC1g&hrid=0Duz8rH6PGKVEBw7CaSL3A&utm_campaign=yelp_api_v3&utm_medium=api_v3_business_reviews&utm_source=BuSFITEhz84GPgGmaOSC1g',\n",
       "  'text': 'Really incredible burrito.\\n\\nI ordered the carnitas burrito. This comes pack with pork and pico. \\n\\nThe tortilla was super soft and chewy and fresh. \\n\\nThe...',\n",
       "  'rating': 5,\n",
       "  'time_created': '2019-06-18 09:27:54',\n",
       "  'user': {'id': 'EOajY1L3ole3gLTCZ2xw1g',\n",
       "   'profile_url': 'https://www.yelp.com/user_details?userid=EOajY1L3ole3gLTCZ2xw1g',\n",
       "   'image_url': 'https://s3-media2.fl.yelpcdn.com/photo/S2HtnnOsP7cgaJ9WvH68vw/o.jpg',\n",
       "   'name': 'Jack M.'}},\n",
       " {'id': 'l4YSbu17DnjJJk_aI5LPhg',\n",
       "  'url': 'https://www.yelp.com/biz/la-taqueria-san-francisco-2?adjust_creative=BuSFITEhz84GPgGmaOSC1g&hrid=l4YSbu17DnjJJk_aI5LPhg&utm_campaign=yelp_api_v3&utm_medium=api_v3_business_reviews&utm_source=BuSFITEhz84GPgGmaOSC1g',\n",
       "  'text': 'Overrated and below average food.\\n\\nNot worth the wait and hype. The service is horrible.\\n\\n\\nThere are a dozen places who make better burritos than this one ....',\n",
       "  'rating': 1,\n",
       "  'time_created': '2019-07-06 20:55:10',\n",
       "  'user': {'id': 'VArd2YL2Lh0W9QT_nEWTXw',\n",
       "   'profile_url': 'https://www.yelp.com/user_details?userid=VArd2YL2Lh0W9QT_nEWTXw',\n",
       "   'image_url': 'https://s3-media3.fl.yelpcdn.com/photo/lzqj1eGtyh6d83zBdzyk2w/o.jpg',\n",
       "   'name': 'Abhinav G.'}},\n",
       " {'id': '3J5UHNYVtO-x0KQg-l-qzQ',\n",
       "  'url': 'https://www.yelp.com/biz/la-taqueria-san-francisco-2?adjust_creative=BuSFITEhz84GPgGmaOSC1g&hrid=3J5UHNYVtO-x0KQg-l-qzQ&utm_campaign=yelp_api_v3&utm_medium=api_v3_business_reviews&utm_source=BuSFITEhz84GPgGmaOSC1g',\n",
       "  'text': 'Solid, but not much to rave about.\\n\\nTo start, I ordered a half carne asada and half lengua burrito, dorado style. I added sour cream, cheese, and...',\n",
       "  'rating': 3,\n",
       "  'time_created': '2019-06-28 12:00:56',\n",
       "  'user': {'id': 'o88sLvU5mCWnI_FfNqawCA',\n",
       "   'profile_url': 'https://www.yelp.com/user_details?userid=o88sLvU5mCWnI_FfNqawCA',\n",
       "   'image_url': 'https://s3-media4.fl.yelpcdn.com/photo/vccTXRBgcgvMAE03c0w77g/o.jpg',\n",
       "   'name': 'Vivian T.'}}]"
      ]
     },
     "execution_count": 13,
     "metadata": {},
     "output_type": "execute_result"
    }
   ],
   "source": [
    "results[\"reviews\"]"
   ]
  },
  {
   "cell_type": "code",
   "execution_count": 14,
   "metadata": {},
   "outputs": [
    {
     "data": {
      "text/plain": [
       "3871"
      ]
     },
     "execution_count": 14,
     "metadata": {},
     "output_type": "execute_result"
    }
   ],
   "source": [
    "results[\"total\"]"
   ]
  },
  {
   "cell_type": "code",
   "execution_count": null,
   "metadata": {},
   "outputs": [],
   "source": []
  }
 ],
 "metadata": {
  "kernelspec": {
   "display_name": "Python 3",
   "language": "python",
   "name": "python3"
  },
  "language_info": {
   "codemirror_mode": {
    "name": "ipython",
    "version": 3
   },
   "file_extension": ".py",
   "mimetype": "text/x-python",
   "name": "python",
   "nbconvert_exporter": "python",
   "pygments_lexer": "ipython3",
   "version": "3.7.1"
  }
 },
 "nbformat": 4,
 "nbformat_minor": 2
}
